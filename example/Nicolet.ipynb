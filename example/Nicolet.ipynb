{
 "metadata": {
  "name": "",
  "signature": "sha256:a72ea9103619078242a23445abcbd5e90b5de95342af6b138ad6cbf52438f06e"
 },
 "nbformat": 3,
 "nbformat_minor": 0,
 "worksheets": [
  {
   "cells": [
    {
     "cell_type": "code",
     "collapsed": false,
     "input": [
      "import sys\n",
      "#sys.path.append('D:/ATLData/Documents/GitHub/GFLOW_utils')\n",
      "sys.path.append('..')\n",
      "import lsmaker as lsm\n",
      "import GISio"
     ],
     "language": "python",
     "metadata": {},
     "outputs": [],
     "prompt_number": 1
    },
    {
     "cell_type": "code",
     "collapsed": false,
     "input": [
      "ls = lsm.linesinks('Nicolet_lines.xml')"
     ],
     "language": "python",
     "metadata": {},
     "outputs": [],
     "prompt_number": 2
    },
    {
     "cell_type": "markdown",
     "metadata": {},
     "source": [
      "####First step is to run *preprocess_arcpy()*, which performs a few steps not implemented in the Python GIS modules\n",
      "This step produces the files listed in the **`<preprocessed/>`** section of the XML input file"
     ]
    },
    {
     "cell_type": "code",
     "collapsed": false,
     "input": [
      "#ls.preprocess_arcpy()"
     ],
     "language": "python",
     "metadata": {},
     "outputs": [],
     "prompt_number": 3
    },
    {
     "cell_type": "code",
     "collapsed": false,
     "input": [
      "#ls.prototype()"
     ],
     "language": "python",
     "metadata": {},
     "outputs": [],
     "prompt_number": 4
    },
    {
     "cell_type": "code",
     "collapsed": false,
     "input": [
      "ls.preprocess()"
     ],
     "language": "python",
     "metadata": {},
     "outputs": [
      {
       "output_type": "stream",
       "stream": "stdout",
       "text": [
        "\n",
        "Assembling input...\n",
        "\n",
        "reading preprocessed/flowlines_clipped.shp...\n",
        "--> building dataframe... (may take a while for large shapefiles)"
       ]
      },
      {
       "output_type": "stream",
       "stream": "stdout",
       "text": [
        "\n",
        "\n",
        "reading shps/elevslope.dbf..."
       ]
      },
      {
       "output_type": "stream",
       "stream": "stdout",
       "text": [
        "\n",
        "--> building dataframe... (may take a while for large shapefiles)"
       ]
      },
      {
       "output_type": "stream",
       "stream": "stdout",
       "text": [
        "\n",
        "\n",
        "reading shps/PlusFlowlineVAA_0407Merge.dbf...\n",
        "--> building dataframe... (may take a while for large shapefiles)"
       ]
      },
      {
       "output_type": "stream",
       "stream": "stdout",
       "text": [
        "\n",
        "\n",
        "reading preprocessed/waterbodies_clipped.shp..."
       ]
      },
      {
       "output_type": "stream",
       "stream": "stdout",
       "text": [
        "\n",
        "--> building dataframe... (may take a while for large shapefiles)"
       ]
      },
      {
       "output_type": "stream",
       "stream": "stdout",
       "text": [
        "\n",
        "\n",
        "reading shps/Nicolet_north_NF.shp..."
       ]
      },
      {
       "output_type": "stream",
       "stream": "stdout",
       "text": [
        "\n",
        "--> building dataframe... (may take a while for large shapefiles)\n",
        "\n",
        "reading preprocessed/ff_cutout.shp...\n",
        "--> building dataframe... (may take a while for large shapefiles)\n",
        "\n",
        "identifying farfield and nearfield linesinks...\n",
        "removing farfield streams lower than 2 order..."
       ]
      },
      {
       "output_type": "stream",
       "stream": "stdout",
       "text": [
        "\n",
        "dropping waterbodies that are not lakes larger than 1.0...\n",
        "merging waterbodies with coincident boundaries...\n",
        "converting lake exterior polygons to lines..."
       ]
      },
      {
       "output_type": "stream",
       "stream": "stdout",
       "text": [
        "\n",
        "merging flowline and waterbody datasets...\n",
        "\n",
        "Done with preprocessing.\n",
        "writing preprocessed/lines.shp..."
       ]
      },
      {
       "output_type": "stream",
       "stream": "stdout",
       "text": [
        "\n",
        "copying shps/Nicolet_north_NF.prj --> preprocessed/lines.prj..."
       ]
      },
      {
       "output_type": "stream",
       "stream": "stdout",
       "text": [
        "\n"
       ]
      }
     ],
     "prompt_number": 5
    },
    {
     "cell_type": "code",
     "collapsed": false,
     "input": [
      "ls.df.columns"
     ],
     "language": "python",
     "metadata": {},
     "outputs": [
      {
       "metadata": {},
       "output_type": "pyout",
       "prompt_number": 12,
       "text": [
        "Index([u'AREASQKM', u'ArbolateSu', u'AreaSqKM', u'COMID', u'DnHydroseq', u'ELEVATION', u'ENABLED', u'FCODE', u'FDATE', u'FLOWDIR', u'FTYPE', u'GNIS_ID', u'GNIS_NAME', u'GNIS_NBR', u'Hydroseq', u'LENGTHKM', u'LengthKM', u'MAXELEVSMO', u'MINELEVSMO', u'REACHCODE', u'RESOLUTION', u'SHAPE_LENG', u'Shape_Area', u'Shape_Le_1', u'StreamOrde', u'WBAREACOMI', u'farfield', u'geometry', u'waterbody'], dtype='object')"
       ]
      }
     ],
     "prompt_number": 12
    },
    {
     "cell_type": "code",
     "collapsed": false,
     "input": [],
     "language": "python",
     "metadata": {},
     "outputs": [
      {
       "ename": "NameError",
       "evalue": "name 'pfvaa' is not defined",
       "output_type": "pyerr",
       "traceback": [
        "\u001b[0;31m---------------------------------------------------------------------------\u001b[0m\n\u001b[0;31mNameError\u001b[0m                                 Traceback (most recent call last)",
        "\u001b[0;32m<ipython-input-6-dc038c1674ba>\u001b[0m in \u001b[0;36m<module>\u001b[0;34m()\u001b[0m\n\u001b[0;32m----> 1\u001b[0;31m \u001b[0mpfvaa\u001b[0m\u001b[0;34m.\u001b[0m\u001b[0mcolumns\u001b[0m\u001b[0;34m\u001b[0m\u001b[0m\n\u001b[0m",
        "\u001b[0;31mNameError\u001b[0m: name 'pfvaa' is not defined"
       ]
      }
     ],
     "prompt_number": 6
    },
    {
     "cell_type": "code",
     "collapsed": false,
     "input": [
      "ls.df.ix[11951623, 'geometry'].simplify(100)"
     ],
     "language": "python",
     "metadata": {},
     "outputs": [
      {
       "metadata": {},
       "output_type": "pyout",
       "prompt_number": 15,
       "svg": [
        "<svg\n",
        "            preserveAspectRatio=\"xMinYMin meet\"\n",
        "            viewBox=\"343251.884454 5126118.83636 2644.90973058 2919.18165986\"\n",
        "            width=\"300\"\n",
        "            height=\"300\"\n",
        "            transform=\"translate(0, 300),scale(1, -1)\">\n",
        "            <polyline\n",
        "            fill=\"none\"\n",
        "            stroke=\"#66cc99\"\n",
        "            stroke-width=19.4612110657\n",
        "            points=\"345895.794474,5126119.83607 345773.826064,5126395.358 345218.833875,5126829.61858 344981.7788,5127844.66146 344303.170744,5128122.04458 344135.679996,5128319.67813 344137.045288,5128655.04189 343721.112826,5128683.97729 343712.503972,5128836.66177 343252.884285,5129037.01819\"\n",
        "            opacity=\".8\"\n",
        "            />\n",
        "            </svg>"
       ],
       "text": [
        "<shapely.geometry.linestring.LineString at 0xeab5320>"
       ]
      }
     ],
     "prompt_number": 15
    },
    {
     "cell_type": "code",
     "collapsed": false,
     "input": [
      "ls.df.ix[11951599, 'geometry'].xy"
     ],
     "language": "python",
     "metadata": {},
     "outputs": [
      {
       "metadata": {},
       "output_type": "pyout",
       "prompt_number": 16,
       "text": [
        "(array('d', [343252.88428490446, 343204.29740931524, 343175.6239671296, 342948.26178150147, 342913.87083934597, 342910.7068743773, 342885.8526529743, 342850.169279677, 342836.7324276862, 342818.953259656, 342761.5668628927, 342708.3208929085, 342623.21886483196, 342598.9059214253, 342503.98374840256, 342440.7866002696, 342421.01736736426, 342409.74548096524, 342357.511777962, 342345.6343126262, 342337.8649736581, 342325.9880757171, 342210.05503472965, 342175.1172671702, 342154.87477288616]),\n",
        " array('d', [5129037.018186874, 5129025.614139622, 5128998.428994984, 5129047.722889183, 5129091.822602794, 5129163.062796258, 5129184.0499414485, 5129179.936261451, 5129152.337857868, 5129152.8108439855, 5129192.471158605, 5129196.4310305, 5129244.457121701, 5129285.771113662, 5129346.7498461, 5129358.611287506, 5129379.469074751, 5129433.129584117, 5129475.173615002, 5129505.975267665, 5129595.124951847, 5129625.934062354, 5129756.092581964, 5129779.893659066, 5129782.974878033]))"
       ]
      }
     ],
     "prompt_number": 16
    },
    {
     "cell_type": "code",
     "collapsed": false,
     "input": [],
     "language": "python",
     "metadata": {},
     "outputs": []
    }
   ],
   "metadata": {}
  }
 ]
}